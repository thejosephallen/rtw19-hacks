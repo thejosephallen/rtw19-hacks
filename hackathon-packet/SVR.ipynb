{
 "cells": [
  {
   "cell_type": "code",
   "execution_count": null,
   "metadata": {
    "scrolled": true
   },
   "outputs": [],
   "source": [
    "from sklearn import svm, neighbors, preprocessing, metrics, utils\n",
    "import csv\n",
    "import random\n",
    "import numpy as np\n",
    "import pandas as pd\n",
    "import math\n",
    "\n",
    "def submit_score(predictions, team_key):\n",
    "    \"\"\"\n",
    "    Submit your predictions for scoring\n",
    "\n",
    "    Args:\n",
    "        predictions (DataFrame): Pandas DataFrame containing the following required\n",
    "            column:\n",
    "                1. idx (int) - The unique identifier for each observation\n",
    "                2. predictions (float) - Your predicted value\n",
    "        team_key (str): Your team's unique identifier\n",
    "\n",
    "    Returns:\n",
    "        Response: Flask Response object. See the Response.text field to get the score\n",
    "            from your latest submission. Your best score will be reflected on the\n",
    "            leaderboard\n",
    "    \"\"\"\n",
    "\n",
    "    import requests\n",
    "    import json\n",
    "    import numpy\n",
    "    def default(o):\n",
    "        if isinstance(o, numpy.int64):\n",
    "            return int(o)\n",
    "        raise TypeError\n",
    "\n",
    "    API_ENDPOINT = \"http://coe-hackathon-dot-atd-fn-anacoe-dev.appspot.com/submitscore\"\n",
    "    payload = {\n",
    "        \"team_key\": team_key,\n",
    "        \"data\": predictions.loc[:, [\"idx\", \"predictions\"]].to_dict(orient=\"records\")\n",
    "    }\n",
    "    resp = requests.post(\n",
    "        API_ENDPOINT,\n",
    "        data=json.dumps(payload, default=default),\n",
    "        headers={'Content-Type': 'application/json'}\n",
    "    )\n",
    "    \n",
    "    if resp.status_code == 404:\n",
    "        print(resp.json()['error'])\n",
    "        return None\n",
    "    \n",
    "    elif resp.status_code != 200:\n",
    "        raise ValueError('There was an error processing your request: '\n",
    "                         '\\n{}'.format(resp.text))\n",
    "        return None\n",
    "    else:\n",
    "        score = resp.json()['score']\n",
    "        print('Submission successful! Your score was \\n{}'.format(score))\n",
    "        return score\n",
    "\n",
    "def read_data(filename='data/train.csv'):\n",
    "    data = pd.read_csv(filename)\n",
    "    data = data.replace([np.nan, np.inf, -np.inf], 0)\n",
    "    \n",
    "    if 'UNITS' in data.columns:\n",
    "        data = utils.shuffle(data)\n",
    "        truth = data['UNITS']\n",
    "        samples = data.drop(['idx', 'UNITS'], axis=1)\n",
    "    else:\n",
    "        truth = []\n",
    "        samples = data.drop([data.columns[0], 'idx'], axis=1)\n",
    "        \n",
    "    return (samples, truth)\n",
    "\n",
    "def preprocess_data(data):\n",
    "    ## transform nominals to numeric codes\n",
    "    for col in data:\n",
    "        if data[col].dtype == 'object':\n",
    "            data[col] = data[col].astype('category').cat.codes\n",
    "    \n",
    "    ## normalize the data        \n",
    "    min_max_scaler = preprocessing.MinMaxScaler()\n",
    "    np_scaled = min_max_scaler.fit_transform(data)\n",
    "    df_normalized = pd.DataFrame(np_scaled)\n",
    "    return df_normalized\n",
    "        \n",
    "    \n",
    "def train_SVR(samples, classes):\n",
    "    clf = svm.SVR(kernel='rbf', C=100, gamma=0.1, epsilon=.1)\n",
    "    clf.fit(samples, classes)\n",
    "    return clf\n",
    "\n",
    "def test_model(model, test_samples, truth):\n",
    "    predictions = model.predict(test_samples)\n",
    "    return zip(truth, predictions)\n",
    "\n",
    "def upload_leaderboard(predictions):\n",
    "    teamkey = '$pbkdf2-sha512$25000$BOA8p/S.N6aUktK6d6415g$5KWTQmlXfm30T4H/c/Vo8Tiacfqd/qst5n3nU9JLSyV3fqZxerFbbCYYwCc3KVlOyv1pnvGJga7CU/CMzM6yNw'\n",
    "    upload_dataframe = pd.DataFrame()\n",
    "    upload_dataframe['idx'] = range(upload_predictions.size)\n",
    "    upload_dataframe['predictions'] = np.array(upload_predictions)\n",
    "    upload_dataframe['predictions'] = upload_dataframe['predictions']\n",
    "    upload_dataframe.shape\n",
    "    submit_score(upload_dataframe[['idx','predictions']],teamkey)"
   ]
  },
  {
   "cell_type": "code",
   "execution_count": null,
   "metadata": {},
   "outputs": [],
   "source": [
    "raw_samples, truth = read_data()\n",
    "processed_samples = preprocess_data(raw_samples)"
   ]
  },
  {
   "cell_type": "code",
   "execution_count": null,
   "metadata": {
    "scrolled": false
   },
   "outputs": [],
   "source": [
    "model = train_SVR(processed_samples, truth)"
   ]
  },
  {
   "cell_type": "code",
   "execution_count": null,
   "metadata": {},
   "outputs": [],
   "source": [
    "predictions = model.predict(processed_samples[10000:11000])"
   ]
  },
  {
   "cell_type": "code",
   "execution_count": null,
   "metadata": {},
   "outputs": [],
   "source": [
    "math.sqrt(metrics.mean_squared_error(truth.values[10000:11000], predictions))"
   ]
  },
  {
   "cell_type": "code",
   "execution_count": null,
   "metadata": {},
   "outputs": [],
   "source": [
    "test_samples, _ = read_data('data/X_test.csv')\n",
    "test_samples = preprocess_data(test_samples)"
   ]
  },
  {
   "cell_type": "code",
   "execution_count": null,
   "metadata": {},
   "outputs": [],
   "source": [
    "upload_predictions = model.predict(test_samples)"
   ]
  },
  {
   "cell_type": "code",
   "execution_count": null,
   "metadata": {},
   "outputs": [],
   "source": [
    "upload_leaderboard(upload_predictions)"
   ]
  }
 ],
 "metadata": {
  "kernelspec": {
   "display_name": "Python 3",
   "language": "python",
   "name": "python3"
  },
  "language_info": {
   "codemirror_mode": {
    "name": "ipython",
    "version": 3
   },
   "file_extension": ".py",
   "mimetype": "text/x-python",
   "name": "python",
   "nbconvert_exporter": "python",
   "pygments_lexer": "ipython3",
   "version": "3.7.3"
  }
 },
 "nbformat": 4,
 "nbformat_minor": 2
}
