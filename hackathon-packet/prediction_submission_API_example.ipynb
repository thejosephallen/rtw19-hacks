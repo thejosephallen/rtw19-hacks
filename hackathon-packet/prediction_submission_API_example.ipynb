{
 "cells": [
  {
   "cell_type": "markdown",
   "metadata": {},
   "source": [
    "# Example for submitting test predictions for scoring"
   ]
  },
  {
   "cell_type": "code",
   "execution_count": 4,
   "metadata": {},
   "outputs": [],
   "source": [
    "import pandas as pd \n",
    "import numpy as np \n",
    "from sklearn.metrics import mean_squared_error\n",
    "import os"
   ]
  },
  {
   "cell_type": "code",
   "execution_count": 1,
   "metadata": {},
   "outputs": [
    {
     "ename": "SyntaxError",
     "evalue": "invalid syntax (<ipython-input-1-7fdbfffa2ebf>, line 38)",
     "output_type": "error",
     "traceback": [
      "\u001b[1;36m  File \u001b[1;32m\"<ipython-input-1-7fdbfffa2ebf>\"\u001b[1;36m, line \u001b[1;32m38\u001b[0m\n\u001b[1;33m    print resp.json()['error']\u001b[0m\n\u001b[1;37m             ^\u001b[0m\n\u001b[1;31mSyntaxError\u001b[0m\u001b[1;31m:\u001b[0m invalid syntax\n"
     ]
    }
   ],
   "source": [
    "def submit_score(predictions, team_key):\n",
    "    \"\"\"\n",
    "    Submit your predictions for scoring\n",
    "\n",
    "    Args:\n",
    "        predictions (DataFrame): Pandas DataFrame containing the following required\n",
    "            column:\n",
    "                1. idx (int) - The unique identifier for each observation\n",
    "                2. predictions (float) - Your predicted value\n",
    "        team_key (str): Your team's unique identifier\n",
    "\n",
    "    Returns:\n",
    "        Response: Flask Response object. See the Response.text field to get the score\n",
    "            from your latest submission. Your best score will be reflected on the\n",
    "            leaderboard\n",
    "    \"\"\"\n",
    "\n",
    "    import requests\n",
    "    import json\n",
    "    import numpy\n",
    "    def default(o):\n",
    "        if isinstance(o, numpy.int64):\n",
    "            return int(o)\n",
    "        raise TypeError\n",
    "\n",
    "    API_ENDPOINT = \"http://coe-hackathon-dot-atd-fn-anacoe-dev.appspot.com/submitscore\"\n",
    "    payload = {\n",
    "        \"team_key\": team_key,\n",
    "        \"data\": predictions.loc[:, [\"idx\", \"predictions\"]].to_dict(orient=\"records\")\n",
    "    }\n",
    "    resp = requests.post(\n",
    "        API_ENDPOINT,\n",
    "        data=json.dumps(payload, default=default),\n",
    "        headers={'Content-Type': 'application/json'}\n",
    "    )\n",
    "    \n",
    "    if resp.status_code == 404:\n",
    "        print resp.json()['error']\n",
    "        return None\n",
    "    \n",
    "    elif resp.status_code != 200:\n",
    "        raise ValueError('There was an error processing your request: '\n",
    "                         '\\n{}'.format(resp.text))\n",
    "        return None\n",
    "    else:\n",
    "        score = resp.json()['score']\n",
    "        print('Submission successful! Your score was \\n{}'.format(score))\n",
    "        return score"
   ]
  },
  {
   "cell_type": "markdown",
   "metadata": {},
   "source": [
    "To use the submit_score function, you will need: \n",
    "+ team key, your team's unique identifier, which we will send to you after event kick off\n",
    "+ your prediction dataframe, containing two columns 'idx', 'predictions'"
   ]
  },
  {
   "cell_type": "code",
   "execution_count": null,
   "metadata": {},
   "outputs": [],
   "source": [
    "teamkey = '$pbkdf2-sha512$25000$BOA8p/S.N6aUktK6d6415g$5KWTQmlXfm30T4H/c/Vo8Tiacfqd/qst5n3nU9JLSyV3fqZxerFbbCYYwCc3KVlOyv1pnvGJga7CU/CMzM6yNw'"
   ]
  },
  {
   "cell_type": "code",
   "execution_count": 6,
   "metadata": {},
   "outputs": [],
   "source": [
    "testdatasize = 526206"
   ]
  },
  {
   "cell_type": "code",
   "execution_count": 7,
   "metadata": {},
   "outputs": [],
   "source": [
    "testX = pd.DataFrame()\n",
    "testX['idx'] = range(testdatasize)\n",
    "testX['predictions'] = np.random.randint(1, 50, testX.shape[0])"
   ]
  },
  {
   "cell_type": "code",
   "execution_count": null,
   "metadata": {
    "scrolled": true
   },
   "outputs": [],
   "source": [
    "import time\n",
    "s = time.time()\n",
    "a = submit_score(testX[['idx','predictions']],teamkey)\n",
    "print('submission time elapsed: '+str(time.time() - s))"
   ]
  },
  {
   "cell_type": "code",
   "execution_count": 9,
   "metadata": {},
   "outputs": [
    {
     "data": {
      "text/html": [
       "<div>\n",
       "<style scoped>\n",
       "    .dataframe tbody tr th:only-of-type {\n",
       "        vertical-align: middle;\n",
       "    }\n",
       "\n",
       "    .dataframe tbody tr th {\n",
       "        vertical-align: top;\n",
       "    }\n",
       "\n",
       "    .dataframe thead th {\n",
       "        text-align: right;\n",
       "    }\n",
       "</style>\n",
       "<table border=\"1\" class=\"dataframe\">\n",
       "  <thead>\n",
       "    <tr style=\"text-align: right;\">\n",
       "      <th></th>\n",
       "      <th>idx</th>\n",
       "      <th>predictions</th>\n",
       "    </tr>\n",
       "  </thead>\n",
       "  <tbody>\n",
       "    <tr>\n",
       "      <th>0</th>\n",
       "      <td>0</td>\n",
       "      <td>26</td>\n",
       "    </tr>\n",
       "    <tr>\n",
       "      <th>1</th>\n",
       "      <td>1</td>\n",
       "      <td>26</td>\n",
       "    </tr>\n",
       "    <tr>\n",
       "      <th>2</th>\n",
       "      <td>2</td>\n",
       "      <td>3</td>\n",
       "    </tr>\n",
       "    <tr>\n",
       "      <th>3</th>\n",
       "      <td>3</td>\n",
       "      <td>14</td>\n",
       "    </tr>\n",
       "    <tr>\n",
       "      <th>4</th>\n",
       "      <td>4</td>\n",
       "      <td>29</td>\n",
       "    </tr>\n",
       "  </tbody>\n",
       "</table>\n",
       "</div>"
      ],
      "text/plain": [
       "   idx  predictions\n",
       "0    0           26\n",
       "1    1           26\n",
       "2    2            3\n",
       "3    3           14\n",
       "4    4           29"
      ]
     },
     "execution_count": 9,
     "metadata": {},
     "output_type": "execute_result"
    }
   ],
   "source": [
    "testX.head()"
   ]
  }
 ],
 "metadata": {
  "kernelspec": {
   "display_name": "Python 3",
   "language": "python",
   "name": "python3"
  },
  "language_info": {
   "codemirror_mode": {
    "name": "ipython",
    "version": 3
   },
   "file_extension": ".py",
   "mimetype": "text/x-python",
   "name": "python",
   "nbconvert_exporter": "python",
   "pygments_lexer": "ipython3",
   "version": "3.6.5"
  }
 },
 "nbformat": 4,
 "nbformat_minor": 2
}
