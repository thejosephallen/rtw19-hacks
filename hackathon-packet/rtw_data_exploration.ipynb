{
 "cells": [
  {
   "cell_type": "code",
   "execution_count": 1,
   "metadata": {},
   "outputs": [],
   "source": [
    "import os\n",
    "import pandas as pd\n",
    "import numpy as np\n",
    "from sklearn.cluster import KMeans"
   ]
  },
  {
   "cell_type": "code",
   "execution_count": 2,
   "metadata": {},
   "outputs": [],
   "source": [
    "# options\n",
    "pd.options.display.max_columns = None # show all columns"
   ]
  },
  {
   "cell_type": "code",
   "execution_count": 11,
   "metadata": {},
   "outputs": [],
   "source": [
    "def load_data():\n",
    "    # paths to data\n",
    "    data_dir = os.getcwd() + \"/data/\"\n",
    "    X_train_path = data_dir + \"X_train.csv\"\n",
    "    X_test_path = data_dir + \"X_test.csv\"\n",
    "    y_train_path = data_dir + \"y_train.csv\"\n",
    "    regis_data_path = data_dir + \"vehicle_registration_data_2018.csv\"\n",
    "    \n",
    "    # load dataframes\n",
    "    X_train = pd.read_csv(X_train_path, index_col='idx')\n",
    "    X_train.drop(X_train.columns[0], axis=1, inplace=True) # drop repeated index column\n",
    "    y_train = pd.read_csv(y_train_path, usecols=['idx','UNITS'], index_col='idx')\n",
    "    #regis_data = pd.read_csv(regis_data_path)\n",
    "    \n",
    "    return X_train, y_train"
   ]
  },
  {
   "cell_type": "markdown",
   "metadata": {},
   "source": [
    "## Grouping by unique products"
   ]
  },
  {
   "cell_type": "code",
   "execution_count": 4,
   "metadata": {},
   "outputs": [],
   "source": [
    "def group_by_product():\n",
    "    # groupby product skew maybe useful???\n",
    "    temp = X_train.groupby(['CATEGORY','TIER','SPEED_RATING_CODE','RIM_DIAMETER_SIZE_CODE']).groups\n",
    "    for k,values in temp.items():\n",
    "        print (\"Product Skew: \",k)\n",
    "        for v in values:\n",
    "            example = X_train.iloc[v]\n",
    "            break\n",
    "        break\n",
    "    example"
   ]
  },
  {
   "cell_type": "markdown",
   "metadata": {},
   "source": [
    "### CLEAN Null values"
   ]
  },
  {
   "cell_type": "code",
   "execution_count": 13,
   "metadata": {},
   "outputs": [],
   "source": [
    "# Replace NaNs with 0\n",
    "def clean_X_train(X_train):\n",
    "    X_train.fillna(0, inplace=True)\n",
    "    X_train.replace([-np.inf, np.inf, np.NaN],0, inplace=True)"
   ]
  },
  {
   "cell_type": "markdown",
   "metadata": {},
   "source": [
    "### K-means clustering "
   ]
  },
  {
   "cell_type": "code",
   "execution_count": 7,
   "metadata": {},
   "outputs": [],
   "source": [
    "def cluster_it():\n",
    "    # Drop rows containing outliers in their numerical columns if desired\n",
    "    #print (\"Dropping outliers...\")\n",
    "    #df = df[(np.abs(stats.zscore(df[cols_to_convert])) < 3).all(axis=1)]\n",
    "\n",
    "    # need the number of labels for categorization\n",
    "    num_labels = 5\n",
    "\n",
    "    # Fit a kmeans model to the column\n",
    "    #mat = df[col].values.reshape(-1,1) # convert dataframe col to matrix\n",
    "    mat = X_train.loc[:,'Monthly_Top_1_Customer_Total_Sales':].values\n",
    "\n",
    "    km = KMeans(n_clusters=num_labels)\n",
    "    km.fit(mat)\n",
    "    labels = km.labels_ # Get cluster assignment labels\n",
    "\n",
    "    sales_cols = ['Monthly_Top_{}_Customer_Total_Sales'.format(i) for i in range(1,11)]\n",
    "    \n",
    "    # Format results as a DataFrame\n",
    "    sales_n_labels = X_train.loc[:,'Monthly_Top_1_Customer_Total_Sales':]\n",
    "    sales_n_labels['Clusters'] = labels\n",
    "    #sales_n_labels.head()"
   ]
  },
  {
   "cell_type": "markdown",
   "metadata": {},
   "source": [
    "## Random Forest Regressor"
   ]
  },
  {
   "cell_type": "code",
   "execution_count": 8,
   "metadata": {},
   "outputs": [],
   "source": [
    "from sklearn.model_selection import cross_val_predict, GridSearchCV, cross_val_score\n",
    "from sklearn.ensemble import RandomForestRegressor\n",
    "from sklearn.preprocessing import MinMaxScaler"
   ]
  },
  {
   "cell_type": "code",
   "execution_count": 9,
   "metadata": {},
   "outputs": [],
   "source": [
    "def rfr_model(X, y):\n",
    "# Perform Grid-Search\n",
    "    gsc = GridSearchCV(\n",
    "        estimator=RandomForestRegressor(),\n",
    "        param_grid={\n",
    "            'max_depth': range(3,7),\n",
    "            'n_estimators': (10,50,100,1000),\n",
    "        },\n",
    "        cv=5, scoring='neg_mean_squared_error', verbose=0, n_jobs=6)\n",
    "    \n",
    "    grid_result = gsc.fit(X, y)\n",
    "    best_params = grid_result.best_params_\n",
    "    \n",
    "    rfr = RandomForestRegressor(max_depth=best_params[\"max_depth\"], n_estimators=best_params[\"n_estimators\"], random_state=False, verbose=False)\n",
    "    # Perform K-Fold CV\n",
    "    scores = cross_val_score(rfr, X, y, cv=10, scoring='neg_mean_absolute_error')\n",
    "\n",
    "    return scores"
   ]
  },
  {
   "cell_type": "code",
   "execution_count": 14,
   "metadata": {},
   "outputs": [
    {
     "name": "stderr",
     "output_type": "stream",
     "text": [
      "/home/joseph/.virtualenvs/rtw19-hacks/lib/python3.6/site-packages/numpy/lib/arraysetops.py:569: FutureWarning: elementwise comparison failed; returning scalar instead, but in the future will perform elementwise comparison\n",
      "  mask |= (ar1 == a)\n"
     ]
    },
    {
     "data": {
      "text/plain": [
       "array([-6.06386053, -7.02158898, -6.72827336, -5.2768255 , -5.30859079,\n",
       "       -5.05447867, -4.43408221, -4.73084366, -4.06220471, -5.08592357])"
      ]
     },
     "execution_count": 14,
     "metadata": {},
     "output_type": "execute_result"
    }
   ],
   "source": [
    "# Numeric columns\n",
    "X_train, y_train = load_data()\n",
    "clean_X_train(X_train)\n",
    "\n",
    "num_cols = list(X_train.select_dtypes(include=[np.float64]).columns.values)\n",
    "rfr_model(X_train[num_cols][:50000],y_train['UNITS'][:50000])"
   ]
  },
  {
   "cell_type": "code",
   "execution_count": 15,
   "metadata": {},
   "outputs": [
    {
     "data": {
      "text/plain": [
       "(2019036, 32)"
      ]
     },
     "execution_count": 15,
     "metadata": {},
     "output_type": "execute_result"
    }
   ],
   "source": []
  },
  {
   "cell_type": "code",
   "execution_count": null,
   "metadata": {},
   "outputs": [],
   "source": []
  }
 ],
 "metadata": {
  "kernelspec": {
   "display_name": "Python 3",
   "language": "python",
   "name": "python3"
  },
  "language_info": {
   "codemirror_mode": {
    "name": "ipython",
    "version": 3
   },
   "file_extension": ".py",
   "mimetype": "text/x-python",
   "name": "python",
   "nbconvert_exporter": "python",
   "pygments_lexer": "ipython3",
   "version": "3.6.7"
  }
 },
 "nbformat": 4,
 "nbformat_minor": 2
}
