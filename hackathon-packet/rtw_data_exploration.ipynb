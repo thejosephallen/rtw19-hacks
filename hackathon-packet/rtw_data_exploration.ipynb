{
 "cells": [
  {
   "cell_type": "code",
   "execution_count": 1,
   "metadata": {},
   "outputs": [],
   "source": [
    "import os\n",
    "import pandas as pd\n",
    "import numpy as np\n",
    "from sklearn.cluster import KMeans"
   ]
  },
  {
   "cell_type": "code",
   "execution_count": 2,
   "metadata": {},
   "outputs": [],
   "source": [
    "# options\n",
    "pd.options.display.max_columns = None # show all columns"
   ]
  },
  {
   "cell_type": "code",
   "execution_count": 3,
   "metadata": {},
   "outputs": [],
   "source": [
    "# paths to data\n",
    "data_dir = os.getcwd() + \"/data/\"\n",
    "X_train_path = data_dir + \"X_train.csv\"\n",
    "X_test_path = data_dir + \"X_test.csv\"\n",
    "y_train_path = data_dir + \"y_train.csv\"\n",
    "regis_data_path = data_dir + \"vehicle_registration_data_2018.csv\""
   ]
  },
  {
   "cell_type": "code",
   "execution_count": 5,
   "metadata": {},
   "outputs": [],
   "source": [
    "# Load the data into frames\n",
    "X_train = pd.read_csv(X_train_path, index_col=0)\n",
    "#y_train = pd.read_csv(y_train_path, usecols=['idx','UNITS'], index_col='idx')\n",
    "#y_train.drop(y_train.columns[0],axis=1,inplace=True)\n",
    "#regis_data = pd.read_csv(regis_data_path)"
   ]
  },
  {
   "cell_type": "markdown",
   "metadata": {},
   "source": [
    "# Explore X_train"
   ]
  },
  {
   "cell_type": "code",
   "execution_count": 6,
   "metadata": {
    "collapsed": true
   },
   "outputs": [
    {
     "data": {
      "text/plain": [
       "Light Truck                 524200\n",
       "Performance Sport           509346\n",
       "Passenger Car / Mini-Van    492519\n",
       "SUV CUV                     438017\n",
       "Winter                       44910\n",
       "Luxury Touring                6417\n",
       "HT SUV CUV                    1361\n",
       "AT Mud Utility                 963\n",
       "Performance Sport Car          906\n",
       "Standard Passenger             397\n",
       "Name: CATEGORY, dtype: int64"
      ]
     },
     "execution_count": 6,
     "metadata": {},
     "output_type": "execute_result"
    }
   ],
   "source": [
    "# Value counts for CATEGORY\n",
    "X_train['CATEGORY'].value_counts()"
   ]
  },
  {
   "cell_type": "code",
   "execution_count": 7,
   "metadata": {},
   "outputs": [
    {
     "data": {
      "text/plain": [
       "idx                                      int64\n",
       "DC_ZIPCODE                               int64\n",
       "Invoice_Year                             int64\n",
       "Invoice_Week                             int64\n",
       "CATEGORY                                object\n",
       "TIER                                    object\n",
       "SPEED_RATING_CODE                       object\n",
       "RIM_DIAMETER_SIZE_CODE                 float64\n",
       "WIDTH                                  float64\n",
       "HEIGHT                                 float64\n",
       "AVG_UNIT_WEIGHT                        float64\n",
       "Invoice_Month                          float64\n",
       "SELLING_PRICE                          float64\n",
       "Monthly_Top_1_Customer_Zip             float64\n",
       "Monthly_Top_2_Customer_Zip             float64\n",
       "Monthly_Top_3_Customer_Zip             float64\n",
       "Monthly_Top_4_Customer_Zip             float64\n",
       "Monthly_Top_5_Customer_Zip             float64\n",
       "Monthly_Top_6_Customer_Zip             float64\n",
       "Monthly_Top_7_Customer_Zip             float64\n",
       "Monthly_Top_8_Customer_Zip             float64\n",
       "Monthly_Top_9_Customer_Zip             float64\n",
       "Monthly_Top_10_Customer_Zip            float64\n",
       "Monthly_Top_1_Customer_Total_Sales     float64\n",
       "Monthly_Top_2_Customer_Total_Sales     float64\n",
       "Monthly_Top_3_Customer_Total_Sales     float64\n",
       "Monthly_Top_4_Customer_Total_Sales     float64\n",
       "Monthly_Top_5_Customer_Total_Sales     float64\n",
       "Monthly_Top_6_Customer_Total_Sales     float64\n",
       "Monthly_Top_7_Customer_Total_Sales     float64\n",
       "Monthly_Top_8_Customer_Total_Sales     float64\n",
       "Monthly_Top_9_Customer_Total_Sales     float64\n",
       "Monthly_Top_10_Customer_Total_Sales    float64\n",
       "dtype: object"
      ]
     },
     "execution_count": 7,
     "metadata": {},
     "output_type": "execute_result"
    }
   ],
   "source": [
    "# check out the columns and types in X_train\n",
    "X_train.dtypes"
   ]
  },
  {
   "cell_type": "markdown",
   "metadata": {},
   "source": [
    "## Grouping by unique products"
   ]
  },
  {
   "cell_type": "code",
   "execution_count": 8,
   "metadata": {
    "scrolled": true
   },
   "outputs": [],
   "source": [
    "# groupby product skew maybe useful???\n",
    "temp = X_train.groupby(['CATEGORY','TIER','SPEED_RATING_CODE','RIM_DIAMETER_SIZE_CODE']).groups"
   ]
  },
  {
   "cell_type": "code",
   "execution_count": 10,
   "metadata": {
    "collapsed": true
   },
   "outputs": [
    {
     "name": "stdout",
     "output_type": "stream",
     "text": [
      "Product Skew:  ('AT Mud Utility', 'Tier 1', 'Q', 17.0)\n"
     ]
    },
    {
     "data": {
      "text/plain": [
       "idx                                           1323781\n",
       "DC_ZIPCODE                                      73179\n",
       "Invoice_Year                                     2016\n",
       "Invoice_Week                                       13\n",
       "CATEGORY                               AT Mud Utility\n",
       "TIER                                           Tier 1\n",
       "SPEED_RATING_CODE                                   Q\n",
       "RIM_DIAMETER_SIZE_CODE                             17\n",
       "WIDTH                                             9.8\n",
       "HEIGHT                                           30.8\n",
       "AVG_UNIT_WEIGHT                                  50.4\n",
       "Invoice_Month                                       4\n",
       "SELLING_PRICE                                   125.5\n",
       "Monthly_Top_1_Customer_Zip                      73127\n",
       "Monthly_Top_2_Customer_Zip                      73644\n",
       "Monthly_Top_3_Customer_Zip                      73401\n",
       "Monthly_Top_4_Customer_Zip                      73135\n",
       "Monthly_Top_5_Customer_Zip                      73018\n",
       "Monthly_Top_6_Customer_Zip                      73075\n",
       "Monthly_Top_7_Customer_Zip                      73107\n",
       "Monthly_Top_8_Customer_Zip                      73162\n",
       "Monthly_Top_9_Customer_Zip                      73127\n",
       "Monthly_Top_10_Customer_Zip                     73703\n",
       "Monthly_Top_1_Customer_Total_Sales             158578\n",
       "Monthly_Top_2_Customer_Total_Sales             104748\n",
       "Monthly_Top_3_Customer_Total_Sales              94520\n",
       "Monthly_Top_4_Customer_Total_Sales              81772\n",
       "Monthly_Top_5_Customer_Total_Sales              86244\n",
       "Monthly_Top_6_Customer_Total_Sales              58290\n",
       "Monthly_Top_7_Customer_Total_Sales              46982\n",
       "Monthly_Top_8_Customer_Total_Sales              71018\n",
       "Monthly_Top_9_Customer_Total_Sales              72974\n",
       "Monthly_Top_10_Customer_Total_Sales             69090\n",
       "Name: 1323781, dtype: object"
      ]
     },
     "execution_count": 10,
     "metadata": {},
     "output_type": "execute_result"
    }
   ],
   "source": [
    "# using \n",
    "for k,values in temp.items():\n",
    "    print (\"Product Skew: \",k)\n",
    "    for v in values:\n",
    "        example = X_train.iloc[v]\n",
    "        break\n",
    "    break\n",
    "example"
   ]
  },
  {
   "cell_type": "markdown",
   "metadata": {},
   "source": [
    "### CLEAN Null values"
   ]
  },
  {
   "cell_type": "code",
   "execution_count": 11,
   "metadata": {
    "collapsed": true
   },
   "outputs": [
    {
     "name": "stdout",
     "output_type": "stream",
     "text": [
      "idx 0\n",
      "DC_ZIPCODE 0\n",
      "Invoice_Year 0\n",
      "Invoice_Week 0\n",
      "CATEGORY 0\n",
      "TIER 0\n",
      "SPEED_RATING_CODE 0\n",
      "RIM_DIAMETER_SIZE_CODE 0\n",
      "WIDTH 0\n",
      "HEIGHT 0\n",
      "AVG_UNIT_WEIGHT 0\n",
      "Invoice_Month 0\n",
      "SELLING_PRICE 1642\n",
      "Monthly_Top_1_Customer_Zip 0\n",
      "Monthly_Top_2_Customer_Zip 0\n",
      "Monthly_Top_3_Customer_Zip 2\n",
      "Monthly_Top_4_Customer_Zip 2\n",
      "Monthly_Top_5_Customer_Zip 2\n",
      "Monthly_Top_6_Customer_Zip 2\n",
      "Monthly_Top_7_Customer_Zip 4\n",
      "Monthly_Top_8_Customer_Zip 4\n",
      "Monthly_Top_9_Customer_Zip 4\n",
      "Monthly_Top_10_Customer_Zip 4\n",
      "Monthly_Top_1_Customer_Total_Sales 4\n",
      "Monthly_Top_2_Customer_Total_Sales 4\n",
      "Monthly_Top_3_Customer_Total_Sales 65\n",
      "Monthly_Top_4_Customer_Total_Sales 65\n",
      "Monthly_Top_5_Customer_Total_Sales 96\n",
      "Monthly_Top_6_Customer_Total_Sales 96\n",
      "Monthly_Top_7_Customer_Total_Sales 101\n",
      "Monthly_Top_8_Customer_Total_Sales 101\n",
      "Monthly_Top_9_Customer_Total_Sales 101\n",
      "Monthly_Top_10_Customer_Total_Sales 101\n"
     ]
    }
   ],
   "source": [
    "# The rows with bad/empty/null/missing data\n",
    "for col in X_train.columns:\n",
    "    print (col, X_train[col].isna().sum())"
   ]
  },
  {
   "cell_type": "code",
   "execution_count": 12,
   "metadata": {},
   "outputs": [],
   "source": [
    "# Replace NaNs with 0\n",
    "X_train.replace(np.NaN, 0, inplace=True)"
   ]
  },
  {
   "cell_type": "code",
   "execution_count": 13,
   "metadata": {},
   "outputs": [
    {
     "data": {
      "text/html": [
       "<div>\n",
       "<style scoped>\n",
       "    .dataframe tbody tr th:only-of-type {\n",
       "        vertical-align: middle;\n",
       "    }\n",
       "\n",
       "    .dataframe tbody tr th {\n",
       "        vertical-align: top;\n",
       "    }\n",
       "\n",
       "    .dataframe thead th {\n",
       "        text-align: right;\n",
       "    }\n",
       "</style>\n",
       "<table border=\"1\" class=\"dataframe\">\n",
       "  <thead>\n",
       "    <tr style=\"text-align: right;\">\n",
       "      <th></th>\n",
       "      <th>idx</th>\n",
       "      <th>DC_ZIPCODE</th>\n",
       "      <th>Invoice_Year</th>\n",
       "      <th>Invoice_Week</th>\n",
       "      <th>CATEGORY</th>\n",
       "      <th>TIER</th>\n",
       "      <th>SPEED_RATING_CODE</th>\n",
       "      <th>RIM_DIAMETER_SIZE_CODE</th>\n",
       "      <th>WIDTH</th>\n",
       "      <th>HEIGHT</th>\n",
       "      <th>AVG_UNIT_WEIGHT</th>\n",
       "      <th>Invoice_Month</th>\n",
       "      <th>SELLING_PRICE</th>\n",
       "      <th>Monthly_Top_1_Customer_Zip</th>\n",
       "      <th>Monthly_Top_2_Customer_Zip</th>\n",
       "      <th>Monthly_Top_3_Customer_Zip</th>\n",
       "      <th>Monthly_Top_4_Customer_Zip</th>\n",
       "      <th>Monthly_Top_5_Customer_Zip</th>\n",
       "      <th>Monthly_Top_6_Customer_Zip</th>\n",
       "      <th>Monthly_Top_7_Customer_Zip</th>\n",
       "      <th>Monthly_Top_8_Customer_Zip</th>\n",
       "      <th>Monthly_Top_9_Customer_Zip</th>\n",
       "      <th>Monthly_Top_10_Customer_Zip</th>\n",
       "      <th>Monthly_Top_1_Customer_Total_Sales</th>\n",
       "      <th>Monthly_Top_2_Customer_Total_Sales</th>\n",
       "      <th>Monthly_Top_3_Customer_Total_Sales</th>\n",
       "      <th>Monthly_Top_4_Customer_Total_Sales</th>\n",
       "      <th>Monthly_Top_5_Customer_Total_Sales</th>\n",
       "      <th>Monthly_Top_6_Customer_Total_Sales</th>\n",
       "      <th>Monthly_Top_7_Customer_Total_Sales</th>\n",
       "      <th>Monthly_Top_8_Customer_Total_Sales</th>\n",
       "      <th>Monthly_Top_9_Customer_Total_Sales</th>\n",
       "      <th>Monthly_Top_10_Customer_Total_Sales</th>\n",
       "    </tr>\n",
       "  </thead>\n",
       "  <tbody>\n",
       "  </tbody>\n",
       "</table>\n",
       "</div>"
      ],
      "text/plain": [
       "Empty DataFrame\n",
       "Columns: [idx, DC_ZIPCODE, Invoice_Year, Invoice_Week, CATEGORY, TIER, SPEED_RATING_CODE, RIM_DIAMETER_SIZE_CODE, WIDTH, HEIGHT, AVG_UNIT_WEIGHT, Invoice_Month, SELLING_PRICE, Monthly_Top_1_Customer_Zip, Monthly_Top_2_Customer_Zip, Monthly_Top_3_Customer_Zip, Monthly_Top_4_Customer_Zip, Monthly_Top_5_Customer_Zip, Monthly_Top_6_Customer_Zip, Monthly_Top_7_Customer_Zip, Monthly_Top_8_Customer_Zip, Monthly_Top_9_Customer_Zip, Monthly_Top_10_Customer_Zip, Monthly_Top_1_Customer_Total_Sales, Monthly_Top_2_Customer_Total_Sales, Monthly_Top_3_Customer_Total_Sales, Monthly_Top_4_Customer_Total_Sales, Monthly_Top_5_Customer_Total_Sales, Monthly_Top_6_Customer_Total_Sales, Monthly_Top_7_Customer_Total_Sales, Monthly_Top_8_Customer_Total_Sales, Monthly_Top_9_Customer_Total_Sales, Monthly_Top_10_Customer_Total_Sales]\n",
       "Index: []"
      ]
     },
     "execution_count": 13,
     "metadata": {},
     "output_type": "execute_result"
    }
   ],
   "source": [
    "# rows containing nulls (None now)\n",
    "X_train[X_train.isnull().any(axis=1)]"
   ]
  },
  {
   "cell_type": "markdown",
   "metadata": {},
   "source": [
    "### K-means clustering "
   ]
  },
  {
   "cell_type": "code",
   "execution_count": 14,
   "metadata": {},
   "outputs": [],
   "source": [
    "# Drop rows containing outliers in their numerical columns if desired\n",
    "#print (\"Dropping outliers...\")\n",
    "#df = df[(np.abs(stats.zscore(df[cols_to_convert])) < 3).all(axis=1)]"
   ]
  },
  {
   "cell_type": "code",
   "execution_count": 15,
   "metadata": {},
   "outputs": [
    {
     "data": {
      "text/plain": [
       "array([3, 3, 3, ..., 0, 0, 0], dtype=int32)"
      ]
     },
     "execution_count": 15,
     "metadata": {},
     "output_type": "execute_result"
    }
   ],
   "source": [
    "\n",
    "# need the number of labels for categorization\n",
    "num_labels = 5\n",
    "\n",
    "# Fit a kmeans model to the column\n",
    "#mat = df[col].values.reshape(-1,1) # convert dataframe col to matrix\n",
    "mat = X_train.loc[:,'Monthly_Top_1_Customer_Total_Sales':].values\n",
    "\n",
    "km = KMeans(n_clusters=num_labels)\n",
    "km.fit(mat)\n",
    "labels = km.labels_ # Get cluster assignment labels\n",
    "labels"
   ]
  },
  {
   "cell_type": "code",
   "execution_count": 27,
   "metadata": {},
   "outputs": [],
   "source": [
    "sales_cols = ['Monthly_Top_{}_Customer_Total_Sales'.format(i) for i in range(1,11)]"
   ]
  },
  {
   "cell_type": "code",
   "execution_count": 30,
   "metadata": {
    "scrolled": true
   },
   "outputs": [],
   "source": [
    "# Format results as a DataFrame\n",
    "sales_n_labels = X_train.loc[:,'Monthly_Top_1_Customer_Total_Sales':]\n",
    "sales_n_labels['Clusters'] = labels\n",
    "\n",
    "# get the order of means of the clusters so we can assign the correct labels\n",
    "#cluster_means = results.groupby('Cluster').mean()\n",
    "#cluster_means.sort_values(col, inplace=True)\n",
    "\n",
    "# add the labels to the cluster nums\n",
    "#for i, label in enumerate(attrs[col]): cluster_means.iloc[i] = label"
   ]
  },
  {
   "cell_type": "code",
   "execution_count": 38,
   "metadata": {},
   "outputs": [
    {
     "data": {
      "text/html": [
       "<div>\n",
       "<style scoped>\n",
       "    .dataframe tbody tr th:only-of-type {\n",
       "        vertical-align: middle;\n",
       "    }\n",
       "\n",
       "    .dataframe tbody tr th {\n",
       "        vertical-align: top;\n",
       "    }\n",
       "\n",
       "    .dataframe thead th {\n",
       "        text-align: right;\n",
       "    }\n",
       "</style>\n",
       "<table border=\"1\" class=\"dataframe\">\n",
       "  <thead>\n",
       "    <tr style=\"text-align: right;\">\n",
       "      <th></th>\n",
       "      <th>Monthly_Top_1_Customer_Total_Sales</th>\n",
       "      <th>Monthly_Top_2_Customer_Total_Sales</th>\n",
       "      <th>Monthly_Top_3_Customer_Total_Sales</th>\n",
       "      <th>Monthly_Top_4_Customer_Total_Sales</th>\n",
       "      <th>Monthly_Top_5_Customer_Total_Sales</th>\n",
       "      <th>Monthly_Top_6_Customer_Total_Sales</th>\n",
       "      <th>Monthly_Top_7_Customer_Total_Sales</th>\n",
       "      <th>Monthly_Top_8_Customer_Total_Sales</th>\n",
       "      <th>Monthly_Top_9_Customer_Total_Sales</th>\n",
       "      <th>Monthly_Top_10_Customer_Total_Sales</th>\n",
       "    </tr>\n",
       "    <tr>\n",
       "      <th>Clusters</th>\n",
       "      <th></th>\n",
       "      <th></th>\n",
       "      <th></th>\n",
       "      <th></th>\n",
       "      <th></th>\n",
       "      <th></th>\n",
       "      <th></th>\n",
       "      <th></th>\n",
       "      <th></th>\n",
       "      <th></th>\n",
       "    </tr>\n",
       "  </thead>\n",
       "  <tbody>\n",
       "    <tr>\n",
       "      <th>0</th>\n",
       "      <td>1.819154e+05</td>\n",
       "      <td>139142.070784</td>\n",
       "      <td>121236.398198</td>\n",
       "      <td>104823.505160</td>\n",
       "      <td>95244.410159</td>\n",
       "      <td>87236.453259</td>\n",
       "      <td>79905.665111</td>\n",
       "      <td>73871.171734</td>\n",
       "      <td>69334.286544</td>\n",
       "      <td>64442.346941</td>\n",
       "    </tr>\n",
       "    <tr>\n",
       "      <th>1</th>\n",
       "      <td>1.269025e+06</td>\n",
       "      <td>469184.952363</td>\n",
       "      <td>345028.008810</td>\n",
       "      <td>390181.370734</td>\n",
       "      <td>219326.969312</td>\n",
       "      <td>167754.536006</td>\n",
       "      <td>163544.996245</td>\n",
       "      <td>153746.470791</td>\n",
       "      <td>129756.063915</td>\n",
       "      <td>135901.986240</td>\n",
       "    </tr>\n",
       "    <tr>\n",
       "      <th>2</th>\n",
       "      <td>3.319228e+05</td>\n",
       "      <td>252722.999146</td>\n",
       "      <td>199498.453892</td>\n",
       "      <td>177738.516406</td>\n",
       "      <td>158996.079365</td>\n",
       "      <td>143972.316385</td>\n",
       "      <td>135850.176213</td>\n",
       "      <td>132613.037371</td>\n",
       "      <td>118777.106319</td>\n",
       "      <td>110382.985323</td>\n",
       "    </tr>\n",
       "    <tr>\n",
       "      <th>3</th>\n",
       "      <td>4.946927e+05</td>\n",
       "      <td>660849.478395</td>\n",
       "      <td>730296.595534</td>\n",
       "      <td>357182.454635</td>\n",
       "      <td>283688.673369</td>\n",
       "      <td>201854.933050</td>\n",
       "      <td>186705.291561</td>\n",
       "      <td>171074.133668</td>\n",
       "      <td>173191.927231</td>\n",
       "      <td>145359.265307</td>\n",
       "    </tr>\n",
       "    <tr>\n",
       "      <th>4</th>\n",
       "      <td>6.793607e+05</td>\n",
       "      <td>328257.171004</td>\n",
       "      <td>271686.488316</td>\n",
       "      <td>228222.558309</td>\n",
       "      <td>198475.440667</td>\n",
       "      <td>192131.206417</td>\n",
       "      <td>171125.903269</td>\n",
       "      <td>168092.053037</td>\n",
       "      <td>150279.011289</td>\n",
       "      <td>138462.609960</td>\n",
       "    </tr>\n",
       "  </tbody>\n",
       "</table>\n",
       "</div>"
      ],
      "text/plain": [
       "          Monthly_Top_1_Customer_Total_Sales  \\\n",
       "Clusters                                       \n",
       "0                               1.819154e+05   \n",
       "1                               1.269025e+06   \n",
       "2                               3.319228e+05   \n",
       "3                               4.946927e+05   \n",
       "4                               6.793607e+05   \n",
       "\n",
       "          Monthly_Top_2_Customer_Total_Sales  \\\n",
       "Clusters                                       \n",
       "0                              139142.070784   \n",
       "1                              469184.952363   \n",
       "2                              252722.999146   \n",
       "3                              660849.478395   \n",
       "4                              328257.171004   \n",
       "\n",
       "          Monthly_Top_3_Customer_Total_Sales  \\\n",
       "Clusters                                       \n",
       "0                              121236.398198   \n",
       "1                              345028.008810   \n",
       "2                              199498.453892   \n",
       "3                              730296.595534   \n",
       "4                              271686.488316   \n",
       "\n",
       "          Monthly_Top_4_Customer_Total_Sales  \\\n",
       "Clusters                                       \n",
       "0                              104823.505160   \n",
       "1                              390181.370734   \n",
       "2                              177738.516406   \n",
       "3                              357182.454635   \n",
       "4                              228222.558309   \n",
       "\n",
       "          Monthly_Top_5_Customer_Total_Sales  \\\n",
       "Clusters                                       \n",
       "0                               95244.410159   \n",
       "1                              219326.969312   \n",
       "2                              158996.079365   \n",
       "3                              283688.673369   \n",
       "4                              198475.440667   \n",
       "\n",
       "          Monthly_Top_6_Customer_Total_Sales  \\\n",
       "Clusters                                       \n",
       "0                               87236.453259   \n",
       "1                              167754.536006   \n",
       "2                              143972.316385   \n",
       "3                              201854.933050   \n",
       "4                              192131.206417   \n",
       "\n",
       "          Monthly_Top_7_Customer_Total_Sales  \\\n",
       "Clusters                                       \n",
       "0                               79905.665111   \n",
       "1                              163544.996245   \n",
       "2                              135850.176213   \n",
       "3                              186705.291561   \n",
       "4                              171125.903269   \n",
       "\n",
       "          Monthly_Top_8_Customer_Total_Sales  \\\n",
       "Clusters                                       \n",
       "0                               73871.171734   \n",
       "1                              153746.470791   \n",
       "2                              132613.037371   \n",
       "3                              171074.133668   \n",
       "4                              168092.053037   \n",
       "\n",
       "          Monthly_Top_9_Customer_Total_Sales  \\\n",
       "Clusters                                       \n",
       "0                               69334.286544   \n",
       "1                              129756.063915   \n",
       "2                              118777.106319   \n",
       "3                              173191.927231   \n",
       "4                              150279.011289   \n",
       "\n",
       "          Monthly_Top_10_Customer_Total_Sales  \n",
       "Clusters                                       \n",
       "0                                64442.346941  \n",
       "1                               135901.986240  \n",
       "2                               110382.985323  \n",
       "3                               145359.265307  \n",
       "4                               138462.609960  "
      ]
     },
     "execution_count": 38,
     "metadata": {},
     "output_type": "execute_result"
    }
   ],
   "source": [
    "sales_n_labels.groupby('Clusters').mean()"
   ]
  },
  {
   "cell_type": "code",
   "execution_count": null,
   "metadata": {},
   "outputs": [],
   "source": []
  },
  {
   "cell_type": "markdown",
   "metadata": {},
   "source": [
    "# Explore y_train Data"
   ]
  },
  {
   "cell_type": "code",
   "execution_count": null,
   "metadata": {},
   "outputs": [],
   "source": [
    "# negative units sold\n",
    "y_train[y_train.values < 0].head()"
   ]
  },
  {
   "cell_type": "markdown",
   "metadata": {},
   "source": [
    "### Explore Vehicle Registration Data"
   ]
  },
  {
   "cell_type": "code",
   "execution_count": null,
   "metadata": {},
   "outputs": [],
   "source": [
    "regis_data.head()"
   ]
  },
  {
   "cell_type": "code",
   "execution_count": null,
   "metadata": {},
   "outputs": [],
   "source": []
  }
 ],
 "metadata": {
  "kernelspec": {
   "display_name": "Python 3",
   "language": "python",
   "name": "python3"
  },
  "language_info": {
   "codemirror_mode": {
    "name": "ipython",
    "version": 3
   },
   "file_extension": ".py",
   "mimetype": "text/x-python",
   "name": "python",
   "nbconvert_exporter": "python",
   "pygments_lexer": "ipython3",
   "version": "3.6.7"
  }
 },
 "nbformat": 4,
 "nbformat_minor": 2
}
