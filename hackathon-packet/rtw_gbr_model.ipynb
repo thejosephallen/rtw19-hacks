{
 "cells": [
  {
   "cell_type": "code",
   "execution_count": 1,
   "metadata": {},
   "outputs": [],
   "source": [
    "import os\n",
    "import pandas as pd\n",
    "import numpy as np\n",
    "from sklearn.cluster import KMeans\n",
    "from sklearn.model_selection import cross_val_predict, RandomizedSearchCV, GridSearchCV, cross_val_score\n",
    "from sklearn.ensemble import RandomForestRegressor, GradientBoostingRegressor, AdaBoostRegressor\n",
    "from sklearn.preprocessing import MinMaxScaler\n",
    "from sklearn.utils import shuffle\n",
    "from sklearn.model_selection import train_test_split\n",
    "from sklearn.metrics import mean_squared_error\n",
    "from math import sqrt\n",
    "from sklearn.tree import DecisionTreeRegressor\n",
    "from sklearn import preprocessing"
   ]
  },
  {
   "cell_type": "code",
   "execution_count": 2,
   "metadata": {},
   "outputs": [],
   "source": [
    "# options\n",
    "pd.options.display.max_columns = None # show all columns"
   ]
  },
  {
   "cell_type": "code",
   "execution_count": 3,
   "metadata": {},
   "outputs": [],
   "source": [
    "def load_data():\n",
    "    # paths to data\n",
    "    data_dir = os.getcwd() + \"/data/\"\n",
    "    X_train_path = data_dir + \"train.csv\"\n",
    "    #X_test_path = data_dir + \"X_test.csv\"\n",
    "    y_train_path = data_dir + \"y_train.csv\"\n",
    "    regis_data_path = data_dir + \"vehicle_registration_data_2018.csv\"\n",
    "    \n",
    "    # load dataframes\n",
    "    X_train = pd.read_csv(X_train_path, index_col='idx')\n",
    "    X_train.drop(X_train.columns[0], axis=1, inplace=True) # drop repeated index column\n",
    "    y_train = pd.read_csv(y_train_path, usecols=['idx','UNITS'], index_col='idx')\n",
    "    #regis_data = pd.read_csv(regis_data_path)\n",
    "    \n",
    "    return X_train, y_train"
   ]
  },
  {
   "cell_type": "code",
   "execution_count": 4,
   "metadata": {},
   "outputs": [],
   "source": [
    "def load_test():\n",
    "    # paths to data\n",
    "    data_dir = os.getcwd() + \"/data/\"\n",
    "    X_test_path = data_dir + \"test.csv\"\n",
    "    \n",
    "    # load dataframes\n",
    "    X_test = pd.read_csv(X_test_path, index_col='idx')\n",
    "    X_test.drop(X_test.columns[0], axis=1, inplace=True) # drop repeated index column\n",
    "    \n",
    "    return X_test"
   ]
  },
  {
   "cell_type": "markdown",
   "metadata": {},
   "source": [
    "## Grouping by unique products"
   ]
  },
  {
   "cell_type": "code",
   "execution_count": 5,
   "metadata": {},
   "outputs": [],
   "source": [
    "def group_by_product():\n",
    "    # groupby product skew maybe useful???\n",
    "    temp = X_train.groupby(['CATEGORY','TIER','SPEED_RATING_CODE','RIM_DIAMETER_SIZE_CODE']).groups\n",
    "    for k,values in temp.items():\n",
    "        print (\"Product Skew: \",k)\n",
    "        for v in values:\n",
    "            example = X_train.iloc[v]\n",
    "            break\n",
    "        break\n",
    "    example"
   ]
  },
  {
   "cell_type": "markdown",
   "metadata": {},
   "source": [
    "### CLEAN Null values"
   ]
  },
  {
   "cell_type": "code",
   "execution_count": 6,
   "metadata": {},
   "outputs": [],
   "source": [
    "# Replace NaNs with 0\n",
    "def clean_data(X):\n",
    "    X.fillna(0, inplace=True)\n",
    "    X.replace([-np.inf, np.inf, np.NaN],0, inplace=True)\n",
    "    ## transform nominals to numeric codes\n",
    "    for col in X:\n",
    "        if X[col].dtype == 'object':\n",
    "            X[col] = X[col].astype('category').cat.codes\n",
    "    X[X.select_dtypes(np.int64).columns.values].astype(np.float64, inplace=True)"
   ]
  },
  {
   "cell_type": "markdown",
   "metadata": {},
   "source": [
    "### K-means clustering "
   ]
  },
  {
   "cell_type": "code",
   "execution_count": 7,
   "metadata": {},
   "outputs": [],
   "source": [
    "def cluster_it():\n",
    "    # Drop rows containing outliers in their numerical columns if desired\n",
    "    #print (\"Dropping outliers...\")\n",
    "    #df = df[(np.abs(stats.zscore(df[cols_to_convert])) < 3).all(axis=1)]\n",
    "\n",
    "    # need the number of labels for categorization\n",
    "    num_labels = 5\n",
    "\n",
    "    # Fit a kmeans model to the column\n",
    "    #mat = df[col].values.reshape(-1,1) # convert dataframe col to matrix\n",
    "    mat = X_train.loc[:,'Monthly_Top_1_Customer_Total_Sales':].values\n",
    "\n",
    "    km = KMeans(n_clusters=num_labels)\n",
    "    km.fit(mat)\n",
    "    labels = km.labels_ # Get cluster assignment labels\n",
    "\n",
    "    sales_cols = ['Monthly_Top_{}_Customer_Total_Sales'.format(i) for i in range(1,11)]\n",
    "    \n",
    "    # Format results as a DataFrame\n",
    "    sales_n_labels = X_train.loc[:,'Monthly_Top_1_Customer_Total_Sales':]\n",
    "    sales_n_labels['Clusters'] = labels\n",
    "    #sales_n_labels.head()"
   ]
  },
  {
   "cell_type": "markdown",
   "metadata": {},
   "source": [
    "###"
   ]
  },
  {
   "cell_type": "code",
   "execution_count": 8,
   "metadata": {},
   "outputs": [],
   "source": [
    "def run_xgbr(X,y):\n",
    "    print (\"Running Random Search CV...\")\n",
    "\n",
    "    \n",
    "    rsc = RandomizedSearchCV(\n",
    "        estimator=XGBRegressor(),\n",
    "        param_distributions={\n",
    "            'n_estimators': [50,100,150,200,300,500],\n",
    "            'learning_rate':[0.0001,0.001,0.01,0.1],\n",
    "            'max_depth':[5,7,9],\n",
    "            'min_samples_split':[3,5,7],\n",
    "        },\n",
    "        cv=5, scoring='neg_mean_squared_error', n_iter=20, verbose=2, n_jobs=7)\n",
    "\n",
    "    print (\"Fitting train data to xgbr...\")\n",
    "\n",
    "    grid_result = rsc.fit(X, y)\n",
    "    best_params = grid_result.best_params_\n",
    "\n",
    "    xgbr = XGBRegressor(loss='error', \n",
    "                learning_rate=best_params[\"learning_rate\"],\n",
    "                max_depth=best_params[\"max_depth\"],\n",
    "                n_estimators=best_params[\"n_estimators\"],\n",
    "                min_samples_split=best_params[\"min_samples_split\"],\n",
    "                random_state=7,\n",
    "                max_features='log2',\n",
    "                nthread=7,\n",
    "                silent=0)\n",
    "\n",
    "    print (\"Cross validating the model...\")\n",
    "\n",
    "    scores = cross_val_score(xgbr, X, y, cv=5, scoring='neg_mean_squared_error')\n",
    "    \n",
    "    return xgbr, scores, best_params\n",
    "    "
   ]
  },
  {
   "cell_type": "code",
   "execution_count": 9,
   "metadata": {
    "scrolled": true
   },
   "outputs": [
    {
     "name": "stderr",
     "output_type": "stream",
     "text": [
      "/home/joseph/.virtualenvs/rtw19-hacks/lib/python3.6/site-packages/numpy/lib/arraysetops.py:569: FutureWarning: elementwise comparison failed; returning scalar instead, but in the future will perform elementwise comparison\n",
      "  mask |= (ar1 == a)\n"
     ]
    },
    {
     "name": "stdout",
     "output_type": "stream",
     "text": [
      "Running Random Search CV...\n",
      "Fitting train data to xgbr...\n",
      "Fitting 5 folds for each of 20 candidates, totalling 100 fits\n"
     ]
    },
    {
     "name": "stderr",
     "output_type": "stream",
     "text": [
      "[Parallel(n_jobs=7)]: Using backend LokyBackend with 7 concurrent workers.\n",
      "[Parallel(n_jobs=7)]: Done  27 tasks      | elapsed: 16.8min\n",
      "[Parallel(n_jobs=7)]: Done 100 out of 100 | elapsed: 77.6min finished\n"
     ]
    },
    {
     "name": "stdout",
     "output_type": "stream",
     "text": [
      "Cross validating the model...\n",
      "{'n_estimators': 500, 'min_samples_split': 3, 'max_depth': 9, 'learning_rate': 0.1}\n"
     ]
    },
    {
     "data": {
      "text/plain": [
       "6.910110293019332"
      ]
     },
     "execution_count": 9,
     "metadata": {},
     "output_type": "execute_result"
    }
   ],
   "source": [
    "from xgboost import XGBRegressor\n",
    "# Get data\n",
    "X, y = load_data()\n",
    "clean_data(X)\n",
    "X.drop('UNITS', axis=1,inplace=True)\n",
    "\n",
    "\n",
    "# split data into train and test sets\n",
    "seed = 7\n",
    "test_size = 0.33\n",
    "\n",
    "# \n",
    "X_train, X_test, y_train, y_test = train_test_split(X, y, test_size=test_size, random_state=seed, shuffle=True)\n",
    "X_train, y_train = X_train[:200000], y_train[:200000]\n",
    "\n",
    "model, scores, best_params = run_xgbr(X_train,y_train)\n",
    "print (best_params)\n",
    "\n",
    "# fit model no training data\n",
    "#model = XGBRegressor(eval_metric=\"error\", \n",
    "#                learning_rate=0.01,\n",
    "#                max_depth=10,\n",
    "#                alpha=.5,\n",
    "#                n_estimators=500,\n",
    "#                min_samples_split=3,\n",
    "#                random_state=7,\n",
    "#                nthread=7,# was 12\n",
    "#                silent=0)\n",
    "model.fit(X_train, y_train, verbose=True)\n",
    "\n",
    "# make predictions for test data\n",
    "rmse = sqrt(mean_squared_error(y_test, model.predict(X_test)))\n",
    "rmse\n",
    "#predictions = [round(value) for value in y_pred]"
   ]
  },
  {
   "cell_type": "markdown",
   "metadata": {},
   "source": [
    "### Best Params: {'n_estimators': 500, 'min_samples_split': 3, 'max_depth': 9, 'learning_rate': 0.1}"
   ]
  },
  {
   "cell_type": "code",
   "execution_count": 13,
   "metadata": {},
   "outputs": [],
   "source": [
    "# save it\n",
    "import pickle\n",
    "pickle.dump(model, open(\"super_xgbr.pickle.dat\", \"wb\"))"
   ]
  },
  {
   "cell_type": "code",
   "execution_count": 14,
   "metadata": {},
   "outputs": [
    {
     "data": {
      "text/plain": [
       "6.910110293019332"
      ]
     },
     "execution_count": 14,
     "metadata": {},
     "output_type": "execute_result"
    }
   ],
   "source": [
    "X_train, X_test, y_train, y_test = train_test_split(X, y, test_size=test_size, random_state=seed, shuffle=True)\n",
    "X_train, y_train = X_train[:200000], y_train[:200000]\n",
    "model.fit(X_train,y_train,verbose=True)\n",
    "sqrt(mean_squared_error(y_test, model.predict(X_test)))"
   ]
  },
  {
   "cell_type": "code",
   "execution_count": 26,
   "metadata": {},
   "outputs": [],
   "source": [
    "# load pickle\n",
    "with open(os.getcwd()+\"/best_xgbr.pickle.dat\", \"rb\") as input_file:\n",
    "    best_model = pickle.load(input_file)"
   ]
  },
  {
   "cell_type": "code",
   "execution_count": 27,
   "metadata": {},
   "outputs": [],
   "source": [
    "X_test = load_test()\n",
    "clean_data(X_test)\n",
    "result = model.predict(X_test).round()"
   ]
  },
  {
   "cell_type": "code",
   "execution_count": 28,
   "metadata": {},
   "outputs": [
    {
     "name": "stdout",
     "output_type": "stream",
     "text": [
      "Submission successful! Your score was \n",
      "7.425840591790698\n"
     ]
    }
   ],
   "source": [
    "upload_leaderboard(result)"
   ]
  },
  {
   "cell_type": "code",
   "execution_count": 16,
   "metadata": {},
   "outputs": [],
   "source": [
    "def submit_score(predictions, team_key):\n",
    "    \"\"\"\n",
    "    Submit your predictions for scoring\n",
    "\n",
    "    Args:\n",
    "        predictions (DataFrame): Pandas DataFrame containing the following required\n",
    "            column:\n",
    "                1. idx (int) - The unique identifier for each observation\n",
    "                2. predictions (float) - Your predicted value\n",
    "        team_key (str): Your team's unique identifier\n",
    "\n",
    "    Returns:\n",
    "        Response: Flask Response object. See the Response.text field to get the score\n",
    "            from your latest submission. Your best score will be reflected on the\n",
    "            leaderboard\n",
    "    \"\"\"\n",
    "\n",
    "    import requests\n",
    "    import json\n",
    "    import numpy\n",
    "    def default(o):\n",
    "        if isinstance(o, numpy.int64):\n",
    "            return int(o)\n",
    "        raise TypeError\n",
    "\n",
    "    API_ENDPOINT = \"http://coe-hackathon-dot-atd-fn-anacoe-dev.appspot.com/submitscore\"\n",
    "    payload = {\n",
    "        \"team_key\": team_key,\n",
    "        \"data\": predictions.loc[:, [\"idx\", \"predictions\"]].to_dict(orient=\"records\")\n",
    "    }\n",
    "    resp = requests.post(\n",
    "        API_ENDPOINT,\n",
    "        data=json.dumps(payload, default=default),\n",
    "        headers={'Content-Type': 'application/json'}\n",
    "    )\n",
    "    \n",
    "    if resp.status_code == 404:\n",
    "        print(resp.json()['error'])\n",
    "        return None\n",
    "    \n",
    "    elif resp.status_code != 200:\n",
    "        raise ValueError('There was an error processing your request: '\n",
    "                         '\\n{}'.format(resp.text))\n",
    "        return None\n",
    "    else:\n",
    "        score = resp.json()['score']\n",
    "        print('Submission successful! Your score was \\n{}'.format(score))\n",
    "        return score\n",
    "\n",
    "def upload_leaderboard(upload_predictions):\n",
    "    teamkey = '$pbkdf2-sha512$25000$BOA8p/S.N6aUktK6d6415g$5KWTQmlXfm30T4H/c/Vo8Tiacfqd/qst5n3nU9JLSyV3fqZxerFbbCYYwCc3KVlOyv1pnvGJga7CU/CMzM6yNw'\n",
    "    upload_dataframe = pd.DataFrame()\n",
    "    upload_dataframe['idx'] = range(upload_predictions.size)\n",
    "    upload_dataframe['predictions'] = np.array(upload_predictions)\n",
    "    upload_dataframe['predictions'] = upload_dataframe['predictions']\n",
    "    upload_dataframe.shape\n",
    "    submit_score(upload_dataframe[['idx','predictions']],teamkey)"
   ]
  },
  {
   "cell_type": "code",
   "execution_count": null,
   "metadata": {},
   "outputs": [],
   "source": []
  }
 ],
 "metadata": {
  "kernelspec": {
   "display_name": "Python 3",
   "language": "python",
   "name": "python3"
  },
  "language_info": {
   "codemirror_mode": {
    "name": "ipython",
    "version": 3
   },
   "file_extension": ".py",
   "mimetype": "text/x-python",
   "name": "python",
   "nbconvert_exporter": "python",
   "pygments_lexer": "ipython3",
   "version": "3.6.7"
  }
 },
 "nbformat": 4,
 "nbformat_minor": 2
}
